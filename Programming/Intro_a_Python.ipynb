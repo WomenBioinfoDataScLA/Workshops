{
  "nbformat": 4,
  "nbformat_minor": 0,
  "metadata": {
    "colab": {
      "name": "Workshop_Intro_Python",
      "provenance": [],
      "collapsed_sections": [
        "-Aq4LYlUalAC",
        "9shY_bKEa8hV",
        "tNJJyaX8bHob",
        "0bH6VJ_4bpMC",
        "207Cp7rrb0o9",
        "H5CaTPqJcFlH",
        "EixijAtzchCc",
        "IsJg-IjadDCU",
        "gFvWVfzOdg03",
        "DD2ZZ_P3duAy",
        "HM9_hQMueA43",
        "Utf6c1GYeg1k",
        "4OvPjDJne38W",
        "9Q31_I3CfBfr",
        "IE9C4i0nflPD",
        "ZMjjq0INf6Vb",
        "057fX472gku8"
      ]
    },
    "kernelspec": {
      "name": "python3",
      "display_name": "Python 3"
    },
    "language_info": {
      "name": "python"
    }
  },
  "cells": [
    {
      "cell_type": "markdown",
      "metadata": {
        "id": "0oejApu_DK0C"
      },
      "source": [
        "Bienvenidxs al taller \"Introducción a Python\" a cargo de la comunidad de [Mujeres en Bioinformática y Ciencia de Datos de America Latin (WBDS LA)](https://wbds.la).\n",
        "\n",
        "Este recorrido se basa en el material de [Fundamentos de Informática](https://github.com/AJVelezRueda/Fundamentos_de_informatica) y de [La Bioinformática va a la Escuela](http://ufq.unq.edu.ar/sbg/education.html). Allí podés encontrar más material para aprender Python. \n",
        "\n",
        "**Docentes: Ana Julia Velez Rueda y Lucy Jimenez**\n",
        "\n",
        "\n",
        "El material se encuentra bajo licencia [Creative Commons Attribution-ShareAlike 4.0 International License][cc-by-sa].\n",
        "\n",
        "[![CC BY-SA 4.0][cc-by-sa-image]][cc-by-sa]\n",
        "\n",
        "[cc-by-sa]: http://creativecommons.org/licenses/by-sa/4.0/\n",
        "[cc-by-sa-image]: https://licensebuttons.net/l/by-sa/4.0/88x31.png\n",
        "[cc-by-sa-shield]: https://img.shields.io/badge/License-CC%20BY--SA%204.0-lightgrey.svg\n",
        "\n"
      ]
    },
    {
      "cell_type": "markdown",
      "metadata": {
        "id": "qV9mNpAuXxYl"
      },
      "source": [
        "# *Introducción a Python*\n",
        "\n",
        "En este recorrido aprenderemos los conceptos básicos de programación y la sintáxis de [Python](https://www.python.org.ar/). Para ello vas a necesitar instalarte [Python](http://ufq.unq.edu.ar/sbg/archivos/guias_talleres/Guia_Instalacion_Python_2020.pdf) y algún [editor de código](https://code.visualstudio.com/) (IDE) que te sea útil para programar. \n",
        "\n",
        "¡Para este recorrido tomaremos como base las presentes guías del Proyecto de Extensión [La Bioinformática Va a La Escuela](http://ufq.unq.edu.ar/sbg/education.html) del cual soy creadora! 🤗\n",
        "\n",
        "Pueden encontrar la version original en md en mi [GitHub](https://github.com/AJVelezRueda/UCEMA_Fundamentos_de_informatica/blob/master/Python_intro/intro_python_tutorial.md#7-variables), junto con otro material para seguir avanzando en su aprendizaje en Python."
      ]
    },
    {
      "cell_type": "code",
      "metadata": {
        "colab": {
          "base_uri": "https://localhost:8080/"
        },
        "id": "koZz3-yUDMiN",
        "outputId": "8c032e3a-2ce2-460e-ff9b-e7cc4bdd94ee"
      },
      "source": [
        "print('Hola mundo')"
      ],
      "execution_count": null,
      "outputs": [
        {
          "output_type": "stream",
          "text": [
            "Hola mundo\n"
          ],
          "name": "stdout"
        }
      ]
    },
    {
      "cell_type": "markdown",
      "metadata": {
        "id": "VE9rorY2X5BQ"
      },
      "source": [
        "# Guias de Trabajo"
      ]
    },
    {
      "cell_type": "markdown",
      "metadata": {
        "id": "Odjlouh5g3VY"
      },
      "source": [
        "  * [1. Pensamiento computacional](#1-PC)\n",
        "  * [2. Anatomia de la Computadora](#2-computadora)\n",
        "  * [3. Hablando como Pythonistas](#3-pythonistas)\n",
        "  * [4. La caja negra](#4-terminal)\n",
        "  * [5. Hola Python](#5-print)\n",
        "  * [6. Una calculadora super-archi-genial](#6-operadores)\n",
        "  * [7. Apto Doris](#7-variables)\n",
        "  * [8. Nada es mejor, nada es igual…](#8-operadores-relacionales)\n",
        "  * [9. Una palabra no dice nada y al mismo tiempo dice todo](#9-strings)\n",
        "  * [10.En fetas de texto](#10-slicing)\n",
        "  * [11. Chamuyo: del lunfardo el arte de manipular palabras](#11-metodos-strings)\n",
        "  * [12. El todo y la nada](#12-in)\n",
        "  * [13. Síndrome de Diógenes](#13-listas)\n",
        "  * [14. Piano piano se va lontano](#14-listas-metodos)\n",
        "  * [15. Matryoshka de datos ](#15-diccionarios)\n",
        "  * [16. Comentario aparte ](#16-comentarios)\n",
        "  * [17. ¡Atender, atender! Comienza la función](#17-funciones)\n",
        "  * [18. Quedándote o yéndote](#18-if)\n",
        "  * [19. Vueltas y mas vueltas](#19-for)\n",
        "  * [20. Salir de la caja](#20-scripts)"
      ]
    },
    {
      "cell_type": "markdown",
      "metadata": {
        "id": "_bHnfp2dYFCr"
      },
      "source": [
        "## [1. Pensamiento computacional](#1-PC) 🧠"
      ]
    },
    {
      "cell_type": "markdown",
      "metadata": {
        "id": "dGYoNlnWX5mX"
      },
      "source": [
        "Si nunca programaste tal vez la programación pueda parecerte algo muy abstracto o lejano, hasta puede que te de miedo intentar aprender a programar, pero lo cierto es que las habilidades que utilizamos para programar son por demás cotidianas. ¿No me crees? ¡Vamos a hacer una prueba!\n",
        "\n",
        "Pensemos en una actividad cotidiana como la de preparar mate 🧉 (#ArgentinianMood) ¡Una actividad muy programadoril!. Al realizar este ritual tan Argento, sin darte cuenta estás aplicando una serie de pasos lógico-prácticos simlares a los que se utilizan para programar: \n",
        "    - Primero, definir el problema que queres resolver. En nuestro caso: preparar mate 🧉 \n",
        "    - Una vez definido el problema debemos plantear los pasos a seguir de una manera sencilla (no es sería recomendable intentar preparar mate patas para arriba). Empezamos buscando el mate y la yerba. Luego verificamos si el mate está vació o lleno, en el caso de estar vacío procedemos a llenarlo. Si está lleno, buscamos la primer maceta que tengamos a mano para vaciar su contenido y llenarlo con yerba."
      ]
    },
    {
      "cell_type": "markdown",
      "metadata": {
        "id": "HHyXWGVLYOal"
      },
      "source": [
        "Ahora que tenemos un idea de los pasos a seguir para resolver el problema, vamos a escribir nuestra guía para preparar un mate en 20 mil simples pasos (mentira solo son 8! 😝):\n",
        "    \n",
        "    Paso 1) Seleccionar el mate\n",
        "    \n",
        "    Paso 2) Buscar el yerbero\n",
        "    \n",
        "    Paso 3) Verificar si el mate está vacío:\n",
        "    \n",
        "        Momento decisivo:\n",
        "    \n",
        "            Paso 4) Si el mate está vacío, llenarlo con la yerba del yerbero.\n",
        "    \n",
        "            Paso 5) Si el mate está lleno:\n",
        "    \n",
        "                    Paso 7) Vaciarlo en una maceta\n",
        "    \n",
        "                    Paso 8) Llenarlo con la yerba del yerbero."
      ]
    },
    {
      "cell_type": "markdown",
      "metadata": {
        "id": "YsyFUm6SYQ6v"
      },
      "source": [
        "Hemos podido hacer un recorrido simplificado de la actividad, con las posibles situaciones a las que nos podemos enfrentar y sus soluciones posibles, para resolver el problema que nos habíamos propuesto: preparar mate 🧉\n",
        "\n",
        "Veamos como se vería nuestra guía para preparar mate escrita en un lenguaje similar al que una computadora puede entender (pseudocódigo):"
      ]
    },
    {
      "cell_type": "markdown",
      "metadata": {
        "id": "g2yPz4Pog-1d"
      },
      "source": [
        "    mate = mate seleccionado\n",
        "    yerbero = lata de yerba\n",
        "    maceta = maceta con cactus del balcón "
      ]
    },
    {
      "cell_type": "markdown",
      "metadata": {
        "id": "-qLAw0rDYocI"
      },
      "source": [
        "    if mate está vacio:\n",
        "        llenar mate con yerba del yerbero\n",
        "    de lo contrario:\n",
        "        vaciar mate en maceta\n",
        "        llenar mate con yerba del yerbero"
      ]
    },
    {
      "cell_type": "markdown",
      "metadata": {
        "id": "I52B7JvKYzYK"
      },
      "source": [
        "Moraleja, programar es como hacer mate...Bueno, no taaanto ¡pero casi! 😝"
      ]
    },
    {
      "cell_type": "markdown",
      "metadata": {
        "id": "6XkvbmpmY1Uo"
      },
      "source": [
        "__> 🧗‍♀️ Desafío I:__\n",
        "\n",
        "¿Qué pasos nos faltaron? ¿Podés pensar otras posibles situaciones que no estemos contemplando (como por ejemplo que no haya yerba en el yerbero)?  Agregá a la guía para preparar mate(script) los pasos, problemas posibles y las soluciones que se te ocurran en sentencias u ordenes sencillas (ejemplo; verificar si hay yerba en el yerbero. Si no hay agregar, si hay llenar el mate)."
      ]
    },
    {
      "cell_type": "markdown",
      "metadata": {
        "id": "z5mFRqPKZBWU"
      },
      "source": [
        "## [2. Anatomia de la Computadora](#1-computadora)"
      ]
    },
    {
      "cell_type": "markdown",
      "metadata": {
        "id": "X63M87vEZRPz"
      },
      "source": [
        "Una computadora :computer: está formada por el _hardware_ (que son todas las partes o elementos físicos que la componen :keyboard::desktop::mouse_three_button:) y el _software_ (que son todas las instrucciones para el funcionamiento del Hardware). El _sistema operativo_ es el principal software de la computadora, pues proporciona una interfaz con el usuario y permite al resto de los programas una interacción correcta con el Hardware."
      ]
    },
    {
      "cell_type": "markdown",
      "metadata": {
        "id": "_zyb4rxuZbVK"
      },
      "source": [
        "> Para pensar 🤔: ¿Y cómo te parece que funciona tu teléfono celular 📱?"
      ]
    },
    {
      "cell_type": "markdown",
      "metadata": {
        "id": "NNlyc4ZrZS26"
      },
      "source": [
        "## [3. Hablando como Pythonistas](#3-pythonistas)🐍"
      ]
    },
    {
      "cell_type": "markdown",
      "metadata": {
        "id": "LUL8DzCFZjs8"
      },
      "source": [
        "_¿Y cómo hacemos para decirle a la computadora qué hacer?_\n",
        "\n",
        "Una computadora está constituida, básicamente, por un gran número de circuitos eléctricos que pueden estar prendidos o apagados. A los circuitos activados los representamos con un (`1`) y a los desactivados, con un (`0`).\n",
        "\n",
        "Al establecer diferentes combinaciones de prendido y apagado de los circuitos, quienes usamos las computadoras podemos lograr que el equipo realice alguna acción (por ejemplo, que muestre algo en la pantalla 🖥️). ¡Esto es programar!\n",
        "\n",
        "Los _lenguajes de programación_ actúan como traductores entre humanos y computadora 👩‍💻. En lugar de aprender el difícil lenguaje de la máquina, con sus combinaciones de _ceros_ y _unos_, se puede utilizar un lenguaje de programación para dar instrucciones al equipo de un modo que sea más fácil de aprender y entender. \n",
        "\n",
        "Para que la computadora entienda nuestras órdenes, un programa intermedio, denominado compilador, lee las instrucciones dadas por el usuario en un determinado lenguaje de programación y las convierte al lenguaje máquina de ceros y unos.\n",
        "\n",
        "Esto significa que, como programadores de Python 🐍 (o cualquier otro lenguaje), no necesitamos entender lo que el equipo hace o cómo lo hace 🤔, basta con que entendamos a _hablar y escribir_ en el lenguaje de programación.\n",
        "\n",
        "Python 🐍 es un lenguaje de programación con una forma de escritura (sintaxis) sencilla. Es lo que se conoce como lenguaje de scripting, que puede ser ejecutado por partes y no necesita ser compilado en un paso aparte (¿Compilado? 🤔 ¡Averiguá de qué se trata!).\n",
        "\n",
        "Python tiene muchas características, ventajas y usos que vamos a pasar por alto ahora, pero que iremos viendo a lo largo del curso."
      ]
    },
    {
      "cell_type": "markdown",
      "metadata": {
        "id": "-Aq4LYlUalAC"
      },
      "source": [
        "## [4. La caja negra](#4-terminal)"
      ]
    },
    {
      "cell_type": "markdown",
      "metadata": {
        "id": "sZazeP24aprH"
      },
      "source": [
        "Ya vimos que para programar necesitamos tener un lenguaje en común con la computadora (lenguaje de programación). Dijimos también que en este curso usaremos como lenguaje _Python_, pero ¿Dónde debemos cargar nuestros mensajes (código)? ¡Hablar al aire parece no ser la solución!\n",
        "\n",
        "Aquí es donde vamos a presentarte la Terminal o Consola. Esta pantalla negra es una interfaz gráfica que nos permite comunicarnos con la computadora. Esta interfaz nos permite ingresar ordenes a la computadora, através del teclado. \n",
        "\n",
        "Seguramente si abriste la terminal, habrás notado que hay un “chirimbolito” (símbolo) delante del código que ingresas, que se llama _prompt_. Algunas veces será un `>`, otras un `$`, según el lenguaje que entienda dicha terminal. \n",
        "\n",
        "👀 Ojo, cuando te mostremos ejemplos de código, si ves un _prompt_ no lo copies, porque forma parte de la consola  \n",
        "\n",
        "> Tené en cuenta, que al salir de la consola se borrarán los comandos, a menos que los guardemos en un archivo o script para volver a ejecutarlos más adelante"
      ]
    },
    {
      "cell_type": "markdown",
      "metadata": {
        "id": "JO3D4YSoavx7"
      },
      "source": [
        "__> 🧗‍♀️ Desafío II:__ \n",
        "\n",
        "Abrí la terminal de _Python_ que tengas instalada en tu computadora y luego abrí _Visual Code_ y luego presioná las teclas `Ctrl + J`. Se abrirá una terminal en el editor de código. ¿Cómo es el _prompt_ en cada caso? ¿Qué lenguaje \"entiende\" la terminal de _Visual Code_?"
      ]
    },
    {
      "cell_type": "markdown",
      "metadata": {
        "id": "9shY_bKEa8hV"
      },
      "source": [
        "## [5. ¡Hola Python!](#5-print) 👋🏾 🐍"
      ]
    },
    {
      "cell_type": "markdown",
      "metadata": {
        "id": "nyBfIJWTa92G"
      },
      "source": [
        "Una forma no muy original de a aprender escribir un primer programa en Python es simplemente abrir la consola, escribir lo siguiente y darle Enter:\n",
        "\n",
        "\n",
        "```python\n",
        ">>> print('¡Hola terricolas!')\n",
        "```"
      ]
    },
    {
      "cell_type": "code",
      "metadata": {
        "colab": {
          "base_uri": "https://localhost:8080/"
        },
        "id": "993iDiSeKndR",
        "outputId": "1dfe2931-1ba3-43ce-b162-04260fba3004"
      },
      "source": [
        "print('Hola curso de intro a Python')"
      ],
      "execution_count": null,
      "outputs": [
        {
          "output_type": "stream",
          "text": [
            "Hola curso de intro a Python\n"
          ],
          "name": "stdout"
        }
      ]
    },
    {
      "cell_type": "markdown",
      "metadata": {
        "id": "HnJ1hULYbD_S"
      },
      "source": [
        "¿Qué pasó? print es una función que te permite imprimir o mostrar en la consola todo lo que se encuentre dentro de los paréntesis y entre comillas, como en nuestro ejemplo. Entre otras cosas, esta función nos permite interactuar con nuestro programa o con el futuro usuario de nuestro programa."
      ]
    },
    {
      "cell_type": "markdown",
      "metadata": {
        "id": "tNJJyaX8bHob"
      },
      "source": [
        "## [6. Una calculadora super-archi-genial](#6-operadores)"
      ]
    },
    {
      "cell_type": "markdown",
      "metadata": {
        "id": "YEEvDrkLbK46"
      },
      "source": [
        "Con Python podemos hacer todo tipo de cálculos matemáticos. Aunque suene medio embole, aprender a hacer estos cálculos nos va a ayudar después a trabajar sobre otros tipos de datos. \n",
        "Vamos a probar algunos cálculos. Para ello tenés que abrir la terminal de tu máquina y escribir _Python_, una vez que des enter y aparezca el _prompt_ podras comunicarte Pytonicamente con la computadora."
      ]
    },
    {
      "cell_type": "markdown",
      "metadata": {
        "id": "nMvxnTjabN2Y"
      },
      "source": [
        "Escribí en tu terminal:\n",
        "```Python\n",
        ">>> 3*5\n",
        "```"
      ]
    },
    {
      "cell_type": "code",
      "metadata": {
        "colab": {
          "base_uri": "https://localhost:8080/"
        },
        "id": "V0Klh8DCLORF",
        "outputId": "305daf66-ea2d-41e5-cede-3a0a0dfa7c09"
      },
      "source": [
        "3*5"
      ],
      "execution_count": null,
      "outputs": [
        {
          "output_type": "execute_result",
          "data": {
            "text/plain": [
              "15"
            ]
          },
          "metadata": {
            "tags": []
          },
          "execution_count": 3
        }
      ]
    },
    {
      "cell_type": "markdown",
      "metadata": {
        "id": "YbGWjbtSbQ4j"
      },
      "source": [
        "> Para pensar 🤔:¿Cuál es el resultado? ¿Qué significa entonces el `*`?"
      ]
    },
    {
      "cell_type": "markdown",
      "metadata": {
        "id": "6RoFx-9SbU4G"
      },
      "source": [
        "Probemos ahora:\n",
        "\n",
        "```Python\n",
        ">>> 8/4\n",
        "```"
      ]
    },
    {
      "cell_type": "code",
      "metadata": {
        "colab": {
          "base_uri": "https://localhost:8080/"
        },
        "id": "1q7JGpU2LruO",
        "outputId": "034ca7c4-6b09-4bf0-84bd-b9bf69b9f506"
      },
      "source": [
        "8/4"
      ],
      "execution_count": null,
      "outputs": [
        {
          "output_type": "execute_result",
          "data": {
            "text/plain": [
              "2.0"
            ]
          },
          "metadata": {
            "tags": []
          },
          "execution_count": 4
        }
      ]
    },
    {
      "cell_type": "markdown",
      "metadata": {
        "id": "PPLQ_firbXb9"
      },
      "source": [
        "> Para pensar 🤔:¿Cuál es el resultado? ¿Qué significa entonces el `/`?"
      ]
    },
    {
      "cell_type": "markdown",
      "metadata": {
        "id": "hlKtLI0Zbjke"
      },
      "source": [
        "Estos chirimbolos se conocen como operadores matemáticos y nos sirven para operar con distintos tipos de datos. ¡Un momento! ¿Cómo distintos tipos? ¿No sirven sólo para números? Dejamos el suspenso abierto..."
      ]
    },
    {
      "cell_type": "markdown",
      "metadata": {
        "id": "LUGZ3-yLbmdZ"
      },
      "source": [
        "<details>\n",
        "  <summary>Tabla resumen operadores matemáticos</summary>\n",
        "\n",
        "|Operación\t|Operador | | | | | | | | | | | | |\n",
        "|-------------\t|----------\t|---\t|---\t|---\t|---\t|---\t|---\t|---\t|---\t|---\t|---\t|---\t|---\t|\n",
        "| Suma | + | | | | | | | | | | | | |\n",
        "| División | / | | | | | | | | | | | | |\n",
        "| Multiplicación | * | | | | | | | | | | | | |\n",
        "| Exponencial | ** | | | | | | | | | | | | |\n",
        "\n",
        "</details>"
      ]
    },
    {
      "cell_type": "markdown",
      "metadata": {
        "id": "0bH6VJ_4bpMC"
      },
      "source": [
        "## [7. Apto Doris](#7-variables) 🐠"
      ]
    },
    {
      "cell_type": "markdown",
      "metadata": {
        "id": "lj-nnXKabvgl"
      },
      "source": [
        "Como habrán notado hasta aquí que venimos introduciendo órdenes línea a linea para que la computadora ejecute, lo que desde el púnto de vista práctico no resulta la mejor opción. Desde ya que sería ideal dejar la máquina haciendo cosas y poder irnos a por café. Por suerte existe una herramienta que va a simplificar nuestra tarea de ahora en adelante: las variables. Las variables nos permiten nombrar y reutilizar valores. \n",
        "\n",
        "Es decir, le damos un nombre a un conjunto de “cosas” o a una \"cosa\" y una vez declarada esa variable, Python recordará que contiene las cosas que le hayamos asignado. Las variables se utilizan en todos los lenguajes de programación. En Python, una variable se define con la sintaxis:"
      ]
    },
    {
      "cell_type": "markdown",
      "metadata": {
        "id": "wUZ7R4h-bygj"
      },
      "source": [
        "```python\n",
        ">>> variable = valor de la variable\n",
        "```"
      ]
    },
    {
      "cell_type": "code",
      "metadata": {
        "id": "14ggtZ4RMhYy"
      },
      "source": [
        "number = 2"
      ],
      "execution_count": null,
      "outputs": []
    },
    {
      "cell_type": "code",
      "metadata": {
        "colab": {
          "base_uri": "https://localhost:8080/"
        },
        "id": "rPisSxMzM1Ys",
        "outputId": "05c69e68-74a6-42ea-97cf-c17320a1d572"
      },
      "source": [
        "number"
      ],
      "execution_count": null,
      "outputs": [
        {
          "output_type": "execute_result",
          "data": {
            "text/plain": [
              "2"
            ]
          },
          "metadata": {
            "tags": []
          },
          "execution_count": 6
        }
      ]
    },
    {
      "cell_type": "markdown",
      "metadata": {
        "id": "207Cp7rrb0o9"
      },
      "source": [
        "## [8. Nada es mejor, nada es igual…](#8-operadores-relacionales) 🎶🎵"
      ]
    },
    {
      "cell_type": "markdown",
      "metadata": {
        "id": "MV_7n4h1b3yL"
      },
      "source": [
        "Existen también formas de comparar dos variables, lo que se conoce como operadores relacionales.\n",
        "Podemos saber si dos variables son iguales (==), o si son distintas (!=), o si una es mayor que la otra (>). Por ejemplo:"
      ]
    },
    {
      "cell_type": "markdown",
      "metadata": {
        "id": "zh56VkCLb7A8"
      },
      "source": [
        "```python\n",
        ">>> dad_lola = 13\n",
        ">>> edad_ana = 32\n",
        ">>> edad_lola == edad_ana\n",
        "```"
      ]
    },
    {
      "cell_type": "markdown",
      "metadata": {
        "id": "_2dOOft_b-CI"
      },
      "source": [
        "> Para pensar 🤔:¿Cuál es el resultado? ¿Qué tipo de dato es?"
      ]
    },
    {
      "cell_type": "markdown",
      "metadata": {
        "id": "Tynw5T2TcAvb"
      },
      "source": [
        "Los operadores relacionales que se pueden usar en Python son:"
      ]
    },
    {
      "cell_type": "markdown",
      "metadata": {
        "id": "2aAB9zSfcE3H"
      },
      "source": [
        "<details>\n",
        "  <summary>Tabla resumen operadores relacionales</summary>\n",
        "\n",
        "|Operación\t|Operador | | | | | | | | | | | | |\n",
        "|-------------\t|----------\t|---\t|---\t|---\t|---\t|---\t|---\t|---\t|---\t|---\t|---\t|---\t|---\t|\n",
        "| Igualdad | == | | | | | | | | | | | | |\n",
        "| Distinto | != | | | | | | | | | | | | |\n",
        "| Mayor | > | | | | | | | | | | | | |\n",
        "| Menor | < | | | | | | | | | | | | |\n",
        "\n",
        "</details>"
      ]
    },
    {
      "cell_type": "markdown",
      "metadata": {
        "id": "H5CaTPqJcFlH"
      },
      "source": [
        "## [9. Una palabra no dice nada y al mismo tiempo dice todo](#9-strings) 🎶🎵"
      ]
    },
    {
      "cell_type": "markdown",
      "metadata": {
        "id": "JWq4aA-UcLMh"
      },
      "source": [
        "Estuvimos operando hasta aquí con números (_Int_) y recientemente aprendimos que existe otro tipo de datos lógicos (_boooleanos_), pero aún nos quedan muchos tipos de datos que podemos manipular en Python.\n",
        "\n",
        "Como _lo que no se nombra, no existe_([George Steiner](https://es.wikipedia.org/wiki/George_Steiner)), en programación y en la vida las palabras importan. En los lenguajes de programación se llama al texto ‘string’, ya que este tipo de datos no es más que una cadena de caracteres, así como una palabra se puede entender como una cadena de letras. \n",
        "\n",
        "Un string no necesariamente tiene que tener sentido. En Python las cadenas se definen escribiendo los caracteres entre comillas simples o dobles, indistintamente:"
      ]
    },
    {
      "cell_type": "markdown",
      "metadata": {
        "id": "DY9gwxPqcQzr"
      },
      "source": [
        "```python\n",
        ">>> cadena = \"este es un ejemplo de cadena\"\n",
        ">>> cadena\n",
        "```"
      ]
    },
    {
      "cell_type": "markdown",
      "metadata": {
        "id": "N1C9saewcWvW"
      },
      "source": [
        "Las cadenas pueden ser comparadas con los operadores relacionales que vimos antes. Así, podemos saber entonces si son o no son distintas:"
      ]
    },
    {
      "cell_type": "markdown",
      "metadata": {
        "id": "wcuJP7zucbcq"
      },
      "source": [
        "```python\n",
        ">>> afirmacion = \"si\"\n",
        ">>> gran_afirmacion = \"SI\"\n",
        ">>> gran_afirmacion == afirmacion\n",
        "```"
      ]
    },
    {
      "cell_type": "markdown",
      "metadata": {
        "id": "osFW7cYbceiZ"
      },
      "source": [
        "> Para pensar 🤔:¿Qué resultado nos da? ¿Por qué?"
      ]
    },
    {
      "cell_type": "markdown",
      "metadata": {
        "id": "EixijAtzchCc"
      },
      "source": [
        "## [10.En fetas de texto](#10-slicing)"
      ]
    },
    {
      "cell_type": "markdown",
      "metadata": {
        "id": "8lebbIDQcj95"
      },
      "source": [
        "En Python podemos saber qué caracteres o subpartes conforman una cadena o string. Python le asigna a cada caracter de una cadena un número de posición. \n",
        "El primer carácter es la posición cero (¡sí, cero!) y las posiciones aumentan de a una hasta el fin de la cadena. \n",
        "\n",
        "En la cadena `saludo = \"hola\"` , la 'h' tiene asignada la posición cero, la 'o' la posición uno, la 'l' la dos y la 'a' la tres. \n"
      ]
    },
    {
      "cell_type": "markdown",
      "metadata": {
        "id": "QOJ3kmMUcoW_"
      },
      "source": [
        "| H | O | L |A |\n",
        "|-------------\t|----------\t|---\t| ---|\t\n",
        "| 0 | 1 | 2 | 3 |"
      ]
    },
    {
      "cell_type": "markdown",
      "metadata": {
        "id": "u-EcsVFwcrTr"
      },
      "source": [
        "> Para pensar 🤔: ¿Posición tendrá la letra \"C' en el string `\"Marie Curie\"`? ¿Por qué?"
      ]
    },
    {
      "cell_type": "markdown",
      "metadata": {
        "id": "EunKrf3ccvPF"
      },
      "source": [
        "Si quisiéramos saber cuál es el primer caracter de la cadena, hacemos referencia al caracter de la posición cero de la misma escribiendo el nombre de la variable seguida de la posición que nos interesa, escrita entre corchetes:"
      ]
    },
    {
      "cell_type": "markdown",
      "metadata": {
        "id": "Y5cEPC0Zcz2S"
      },
      "source": [
        "```python\n",
        ">>> saludo = \"Hola mundo\"\n",
        ">>> saludo[0]\n",
        "```"
      ]
    },
    {
      "cell_type": "markdown",
      "metadata": {
        "id": "lFD4VmCZc2ox"
      },
      "source": [
        "Podríamos tomar solo un segmento de la cadena, indicando entre corchetes desde qué carácter hasta qué carácter, separado por dos puntos:"
      ]
    },
    {
      "cell_type": "markdown",
      "metadata": {
        "id": "7ktfyW-Nc5-d"
      },
      "source": [
        "```python\n",
        ">>> saludo = \"Hola mundo\"\n",
        ">>> saludo[0:3]\n",
        "```"
      ]
    },
    {
      "cell_type": "markdown",
      "metadata": {
        "id": "fZwIPmUIc_mG"
      },
      "source": [
        "> Para pensar 🤔:¿Qué resultado nos dá el código anterior? ¿Por qué? ¿Qué pasa si removemos el último número (hacemos `saludo[0:]`)?"
      ]
    },
    {
      "cell_type": "markdown",
      "metadata": {
        "id": "IsJg-IjadDCU"
      },
      "source": [
        "## [11. Chamuyo: del lunfardo el arte de manipular palabras/cadenas](#11-metodos-strings)"
      ]
    },
    {
      "cell_type": "markdown",
      "metadata": {
        "id": "RuBnQPaCdHWZ"
      },
      "source": [
        "Existen muchas maneras útiles para manipular cadenas en Python."
      ]
    },
    {
      "cell_type": "markdown",
      "metadata": {
        "id": "Zx-hMJxgdJtb"
      },
      "source": [
        "> len(string) \n",
        ">\n",
        "> string.upper()\n",
        ">\n",
        "> string.lower()\n",
        ">\n",
        "> string.count('caracter')"
      ]
    },
    {
      "cell_type": "markdown",
      "metadata": {
        "id": "UnrHOF3PdMbJ"
      },
      "source": [
        "```python\n",
        ">>> saludo = \"Hola mundo\"\n",
        ">>> len(saludo)\n",
        ">>> saludo.upper()\n",
        ">>> saludo.lower()\n",
        ">>> saludo.count('o')\n",
        ">>> saludo.replace('o','a')\n",
        "```"
      ]
    },
    {
      "cell_type": "code",
      "metadata": {
        "colab": {
          "base_uri": "https://localhost:8080/"
        },
        "id": "Nl9X6NmcR9yZ",
        "outputId": "f4660d4a-5ffd-4b49-94cb-edbfa9eb982c"
      },
      "source": [
        "print('Hola mundo')"
      ],
      "execution_count": null,
      "outputs": [
        {
          "output_type": "stream",
          "text": [
            "Hola mundo\n"
          ],
          "name": "stdout"
        }
      ]
    },
    {
      "cell_type": "code",
      "metadata": {
        "id": "hpwj9loCSA8A"
      },
      "source": [
        "saludo = \"Hola mundo\""
      ],
      "execution_count": null,
      "outputs": []
    },
    {
      "cell_type": "code",
      "metadata": {
        "colab": {
          "base_uri": "https://localhost:8080/"
        },
        "id": "0FJxwbUQSGyF",
        "outputId": "24dd35f0-1be7-4e49-efae-2698c3d7320b"
      },
      "source": [
        "len(saludo)"
      ],
      "execution_count": null,
      "outputs": [
        {
          "output_type": "execute_result",
          "data": {
            "text/plain": [
              "10"
            ]
          },
          "metadata": {
            "tags": []
          },
          "execution_count": 9
        }
      ]
    },
    {
      "cell_type": "code",
      "metadata": {
        "colab": {
          "base_uri": "https://localhost:8080/",
          "height": 35
        },
        "id": "pccRIYceSI2-",
        "outputId": "0ab5920b-8490-4bfa-f24c-9194404efb17"
      },
      "source": [
        "saludo.upper().lower()"
      ],
      "execution_count": null,
      "outputs": [
        {
          "output_type": "execute_result",
          "data": {
            "application/vnd.google.colaboratory.intrinsic+json": {
              "type": "string"
            },
            "text/plain": [
              "'hola mundo'"
            ]
          },
          "metadata": {
            "tags": []
          },
          "execution_count": 12
        }
      ]
    },
    {
      "cell_type": "code",
      "metadata": {
        "colab": {
          "base_uri": "https://localhost:8080/",
          "height": 35
        },
        "id": "u-goOqxkSW3_",
        "outputId": "92256111-cd5c-4cbb-fd08-2c409a5ffd4c"
      },
      "source": [
        "saludo"
      ],
      "execution_count": null,
      "outputs": [
        {
          "output_type": "execute_result",
          "data": {
            "application/vnd.google.colaboratory.intrinsic+json": {
              "type": "string"
            },
            "text/plain": [
              "'Hola mundo'"
            ]
          },
          "metadata": {
            "tags": []
          },
          "execution_count": 11
        }
      ]
    },
    {
      "cell_type": "markdown",
      "metadata": {
        "id": "3zjnENikdPLe"
      },
      "source": [
        "__> 🧗‍♀️ Desafío III:__\n",
        "\n",
        "Probá las lineas anteriores y anotate para qué sirve cada uno de los métodos y funciones."
      ]
    },
    {
      "cell_type": "markdown",
      "metadata": {
        "id": "nPNp7IundUgR"
      },
      "source": [
        "> Para pensar 🤔: ¿Se podrán combinar los métodos? Probá hacer `saludo.upper().lower()` ¿Qué dá? ¿Por qué?"
      ]
    },
    {
      "cell_type": "markdown",
      "metadata": {
        "id": "NlhixLkpdXrM"
      },
      "source": [
        "__> 🧗‍♀️ Desafío IV:__\n",
        "\n",
        "Vimos que el método replace nos permite reemplazar un caracter por otro de un string dado, pero nos dejará reemplazar un segemento más largo?  Probá hacer `saludo.replace(\"mundo\", \"terricolas\")`"
      ]
    },
    {
      "cell_type": "markdown",
      "metadata": {
        "id": "_EHdpt_Vda4H"
      },
      "source": [
        "> Para pensar 🤔: ¿Si imprimís `saludo` luego de ejecutar la linea anterior qué obtenés? ¿Cambió el valor de la variable?"
      ]
    },
    {
      "cell_type": "markdown",
      "metadata": {
        "id": "YQhsy2x1ddsU"
      },
      "source": [
        ">📚 Para investigar: ¿Qué es la inmutabilidad en Python?"
      ]
    },
    {
      "cell_type": "markdown",
      "metadata": {
        "id": "gFvWVfzOdg03"
      },
      "source": [
        "## [12. El todo y la nada](#12-in)"
      ]
    },
    {
      "cell_type": "markdown",
      "metadata": {
        "id": "ZWQKjoPcdj-K"
      },
      "source": [
        "Cuando trabajamos con strings también puede resultarnos útil saber si uno contiene a otro, para ello utilizamos el operador `in`:"
      ]
    },
    {
      "cell_type": "markdown",
      "metadata": {
        "id": "5lOgEx7qdqK_"
      },
      "source": [
        "```python\n",
        ">>> \"mar\" in \"marinero\"\n",
        "```"
      ]
    },
    {
      "cell_type": "code",
      "metadata": {
        "colab": {
          "base_uri": "https://localhost:8080/"
        },
        "id": "Zp-qgxPgSzQR",
        "outputId": "78ed363f-c5c4-4bf8-ce51-e9421cfc6f34"
      },
      "source": [
        "'mar' in 'marinero'"
      ],
      "execution_count": null,
      "outputs": [
        {
          "output_type": "execute_result",
          "data": {
            "text/plain": [
              "True"
            ]
          },
          "metadata": {
            "tags": []
          },
          "execution_count": 13
        }
      ]
    },
    {
      "cell_type": "markdown",
      "metadata": {
        "id": "DD2ZZ_P3duAy"
      },
      "source": [
        "## [13. Síndrome de Diógenes](#13-listas)"
      ]
    },
    {
      "cell_type": "markdown",
      "metadata": {
        "id": "09NihcH9dxf3"
      },
      "source": [
        "Python nos permite pensar en grande y acumular datos en lo que se conoce como un tipo de datos  `lista`. Esta nos permiten manipular un gran número de datos en forma sencilla. Y sus elementos pueden ser cadenas, números, ¡incluso otras listas! \n",
        "\n",
        "Las listas se escriben separando a sus elementos con comas, y agrupando a todos entre corchetes:"
      ]
    },
    {
      "cell_type": "markdown",
      "metadata": {
        "id": "P7FqPdIXd0G7"
      },
      "source": [
        "```python\n",
        ">>> lista = [2,5,4]\n",
        "```"
      ]
    },
    {
      "cell_type": "markdown",
      "metadata": {
        "id": "MI-erFCwd3Iv"
      },
      "source": [
        "Al igual que se puede acceder a los distintos caracteres de una cadena, podemos acceder a los elementos de una lista indicando entre corchetes el número de elemento que queremos obtener.\n",
        "\n",
        "Recordá que Python comienza a contar desde cero. Para obtener el segundo elemento, podemos escribir:"
      ]
    },
    {
      "cell_type": "markdown",
      "metadata": {
        "id": "4bo6wPZjd8Mi"
      },
      "source": [
        "```python\n",
        ">>> lista[0]\n",
        "```"
      ]
    },
    {
      "cell_type": "markdown",
      "metadata": {
        "id": "4TrhiYoJd-Yv"
      },
      "source": [
        "> Para pensar 🤔: ¿Cómo podrías conocer la longitud de la lista?"
      ]
    },
    {
      "cell_type": "markdown",
      "metadata": {
        "id": "HM9_hQMueA43"
      },
      "source": [
        "## [14. Piano piano se va lontano](#14-listas-metodos)"
      ]
    },
    {
      "cell_type": "markdown",
      "metadata": {
        "id": "5rHlNO6EeD4c"
      },
      "source": [
        "Podemos agregar (append) elementos a nuestra lista o quitarlos (remove) del siguiente modo:"
      ]
    },
    {
      "cell_type": "markdown",
      "metadata": {
        "id": "ULmW5q20eGSK"
      },
      "source": [
        "```python\n",
        ">>> lista.append('25')\n",
        ">>> lista.remove('2')\n",
        "```"
      ]
    },
    {
      "cell_type": "markdown",
      "metadata": {
        "id": "ZyODCeGqeIkY"
      },
      "source": [
        "> Para pensar 🤔: Probá la sentencia `lista.index('25')` ¿Qué resultado obtenes? ¿Para qué sirve _index()_?\n",
        "\n"
      ]
    },
    {
      "cell_type": "markdown",
      "metadata": {
        "id": "Utf6c1GYeg1k"
      },
      "source": [
        "## [15. Matryoshka de datos ](#15-diccionarios)"
      ]
    },
    {
      "cell_type": "markdown",
      "metadata": {
        "id": "xRQtFSz-ekSE"
      },
      "source": [
        "Los diccionarios, al igual que las listas, nos permiten almacenar datos. Los diccionario son mutables, es decir que podemos agregar o quitar elementos de él y los valores almacenados en él  pueden ser modificados.\n",
        "\n",
        "A diferencias de las listas los valores que se almacenen en el diccionario no poseen un orden. Es decir, que no accesdemos a los valores por su posición (index), sino por su llave (_key_).\n",
        "\n",
        "Podemos declarar un  diccionario vacío haciendo:"
      ]
    },
    {
      "cell_type": "markdown",
      "metadata": {
        "id": "ISdsB922enZn"
      },
      "source": [
        "```python\n",
        ">>> diccionario = {}\n",
        ">>> diccionario = dict()\n",
        "```"
      ]
    },
    {
      "cell_type": "markdown",
      "metadata": {
        "id": "ZnfGpe6BepX1"
      },
      "source": [
        "O dando un cierto valor a una llave dada:"
      ]
    },
    {
      "cell_type": "markdown",
      "metadata": {
        "id": "k6QEV-lGerba"
      },
      "source": [
        "```python\n",
        ">>> diccionario = {\"llave\": \"valor\"}\n",
        "```"
      ]
    },
    {
      "cell_type": "markdown",
      "metadata": {
        "id": "VsaE47hNetXs"
      },
      "source": [
        "Vale la pena aclara que una llave podrá ser cualquier objeto inmutable y el valor puede ser cualquier tipo de dato ¡Hasta un diccionario!\n",
        "\n",
        "Podeemos acceder, entonces al valor de una llave en particular por medio de su llave:"
      ]
    },
    {
      "cell_type": "markdown",
      "metadata": {
        "id": "aUjncq8devnD"
      },
      "source": [
        "```python\n",
        ">>> diccionario[\"llave\"]\n",
        "```"
      ]
    },
    {
      "cell_type": "markdown",
      "metadata": {
        "id": "_MKe4FHPexnX"
      },
      "source": [
        "¿Y si no recordamos las llaves del diccionario? Podemos acceder a todas las llaves mediante:"
      ]
    },
    {
      "cell_type": "markdown",
      "metadata": {
        "id": "8PxCklBNezmk"
      },
      "source": [
        "```python\n",
        ">>> diccionario.keys()\n",
        "```"
      ]
    },
    {
      "cell_type": "markdown",
      "metadata": {
        "id": "lW3nI1tue1hT"
      },
      "source": [
        "> Para pensar 🤔: ¿Cómo harías para obtener todos los valores de un diccionario?"
      ]
    },
    {
      "cell_type": "markdown",
      "metadata": {
        "id": "4OvPjDJne38W"
      },
      "source": [
        "## [16. Comentario aparte ](#16-comentarios)"
      ]
    },
    {
      "cell_type": "markdown",
      "metadata": {
        "id": "2Dxjkd_Pe7Do"
      },
      "source": [
        "En Python tenemos la posibilidad de incluir texto que, aunque esté escrito en el programa, no deba ejecutarse. Esto se logra empezando la línea con el símbolo # (el hash o numeral). Estas líneas se llaman “comentarios” y se utilizan para incluir en el programa algunas aclaraciones acerca del código:"
      ]
    },
    {
      "cell_type": "markdown",
      "metadata": {
        "id": "bZGLDX9we_kp"
      },
      "source": [
        "```python\n",
        ">>> # definir la variable ‘nombre’ e imprimirla\n",
        ">>> nombre = “Ana”\n",
        ">>> nombre\n",
        "```"
      ]
    },
    {
      "cell_type": "markdown",
      "metadata": {
        "id": "9Q31_I3CfBfr"
      },
      "source": [
        "## [17. ¡Atender, atender! Comienza la función](#17-funciones) 🤡"
      ]
    },
    {
      "cell_type": "markdown",
      "metadata": {
        "id": "eKFZ-rrMfFng"
      },
      "source": [
        "¿Vos también flashaste obra de teatro? 🧐 Bueno, en realidad hablamos de otro tipo de funciones… Nos referimos a esos bloques de código a los que les ponemos un nombre (¿Cuca? 🐁), que ejecuta las operaciones deseadas y devuelve un valor o realiza una tarea.\n",
        "\n",
        "Hasta ahora hemos venido ejecutando código línea a línea para lograr nuestro cometido. Pero, si bien no es estrictamente necesario que tu código tenga funciones para hacer lo que querés que haga, sí es muy recomendable. ¿Por qué? Bueno, las funciones nos permiten separar las tareas y reutilizarlas en otros programas.\n",
        "\n",
        "¿Cómo se usan estas funciones? ¿Cómo hago para obtener resultados? ¿Cómo puedo indicarles ciertos\n",
        "parámetros que modifiquen los resultados obtenidos? \n",
        "Basta con poner el nombre de la función y, entre paréntesis, sus argumentos. Veamos entonces cómo\n",
        "es que se define una función:"
      ]
    },
    {
      "cell_type": "markdown",
      "metadata": {
        "id": "IbKuqvyAfHj4"
      },
      "source": [
        "```python\n",
        "def funcion(argumento):\n",
        "    Operación sobre el argumento\n",
        "    return aquí va el resultado quiero devolver\n",
        "```"
      ]
    },
    {
      "cell_type": "markdown",
      "metadata": {
        "id": "dZkmz6ylfJvk"
      },
      "source": [
        "Así por ejemplo si quisiéramos escribir una función que nos permita obtener el doble de un número, podemos escribirla del siguiente modo:"
      ]
    },
    {
      "cell_type": "markdown",
      "metadata": {
        "id": "g25GFkESfM3T"
      },
      "source": [
        "```python\n",
        "def doble(numero):\n",
        "    resultado = numero * 2\n",
        "    return resultado\n",
        "```"
      ]
    },
    {
      "cell_type": "markdown",
      "metadata": {
        "id": "qkaOCm-dfO6F"
      },
      "source": [
        "Cómo ves definir funciones en Python resulta relativamente sencillo, estas nos permiten recibir múltiples parámetros, hacer algo con ellos y devolver un resultado procesado ¡Unas verdaderas maquinitas!"
      ]
    },
    {
      "cell_type": "markdown",
      "metadata": {
        "id": "sHfEcMIcfTVn"
      },
      "source": [
        "__> 🧗‍♀️ Desafío VI:__\n",
        "\n",
        "Después de tanto programar necesitamos unos matecitos. Hoy aprendiste a prepararlos. Lo que no estoy segura es de que el agua alcance para toda la ronda. Suponiendo que cada cebada de mate consume del 30 ml de agua. Cosntruí una función que nos permita calcular cuántos termos de 1000 ml llenos consumiremos para un ronda dada (es decir una cantidad de personas dada)."
      ]
    },
    {
      "cell_type": "code",
      "metadata": {
        "id": "laGpBd-5o7sv"
      },
      "source": [
        "def termos_mate(personas):\n",
        "  termos = personas*30/1000\n",
        "  print(\"para \"+str(personas)+\" personas vas a necesitar: \"+str(termos)+\" termos por ronda\")\n",
        "  return \n"
      ],
      "execution_count": null,
      "outputs": []
    },
    {
      "cell_type": "code",
      "metadata": {
        "colab": {
          "base_uri": "https://localhost:8080/"
        },
        "id": "5KW-63LJqDZK",
        "outputId": "85033d7f-0217-4ade-c5f1-f88495d279f9"
      },
      "source": [
        ""
      ],
      "execution_count": null,
      "outputs": [
        {
          "output_type": "execute_result",
          "data": {
            "text/plain": [
              "float"
            ]
          },
          "metadata": {
            "tags": []
          },
          "execution_count": 31
        }
      ]
    },
    {
      "cell_type": "code",
      "metadata": {
        "colab": {
          "base_uri": "https://localhost:8080/"
        },
        "id": "CYK7kIOJpwsY",
        "outputId": "83e5e05f-1565-4076-b3a0-43b8608a2c48"
      },
      "source": [
        "termos_mate(50)"
      ],
      "execution_count": null,
      "outputs": [
        {
          "output_type": "stream",
          "text": [
            "para 50 personas vas a necesitar: 1.5 termos por ronda\n"
          ],
          "name": "stdout"
        }
      ]
    },
    {
      "cell_type": "code",
      "metadata": {
        "id": "l57gbmt0p0Pf"
      },
      "source": [
        ""
      ],
      "execution_count": null,
      "outputs": []
    },
    {
      "cell_type": "markdown",
      "metadata": {
        "id": "VaFhbR41fYBP"
      },
      "source": [
        "__> 🧗‍♀️ Desafío VII:__ \n",
        "\n",
        "Siempre con los mates, vienen bien unas facturitas 🥐🥐"
      ]
    },
    {
      "cell_type": "markdown",
      "metadata": {
        "id": "4TvfQqcTfceP"
      },
      "source": [
        ">¿Si hacemos una `vaquita` ? _Vaquita_ se le dice en Argentina a hacer una colecta de plata para un fin común. Creá función que nos permita dividir los costos de una docena de facturas entre cierta cantidad de comensales."
      ]
    },
    {
      "cell_type": "markdown",
      "metadata": {
        "id": "4DQ47mn4ffpV"
      },
      "source": [
        "Ahoraa que sabemos cómo definir funciones y podemos reciclar código y automatizar cálculos \n",
        "¡El cielo es el límite!"
      ]
    },
    {
      "cell_type": "code",
      "metadata": {
        "id": "WEVTkTQUh5YH"
      },
      "source": [
        "def vaquita(comensales, costo):\n",
        "  resultado = costo/comensales\n",
        "  return print('Cada uno pone:', resultado)\n"
      ],
      "execution_count": null,
      "outputs": []
    },
    {
      "cell_type": "code",
      "metadata": {
        "colab": {
          "base_uri": "https://localhost:8080/"
        },
        "id": "NUg4MKutimvM",
        "outputId": "574fd0df-47de-4238-ae78-e1d6b4619154"
      },
      "source": [
        "vaquita(15, 6000)"
      ],
      "execution_count": null,
      "outputs": [
        {
          "output_type": "stream",
          "text": [
            "Cada uno pone: 400.0\n"
          ],
          "name": "stdout"
        }
      ]
    },
    {
      "cell_type": "markdown",
      "metadata": {
        "id": "IE9C4i0nflPD"
      },
      "source": [
        "## [18. Quedándote o yéndote](#18-if) 🎶🎵"
      ]
    },
    {
      "cell_type": "markdown",
      "metadata": {
        "id": "AgoHIfvvfo8k"
      },
      "source": [
        "Como en todo, a la hora de escribir un programa debemos tomar decisiones y las decisiones que tomamos siempre dependen de los condicionantes que se presentan. \n",
        "En Python (como en otros los lenguajes de programación) existe una sentencia llamada if (del inglés: si condicional) que le permite al programa hacer una cosa u otra, dependiendo de las condiciones que fijemos. Si cierta condición se cumple, entonces el programa hace algo. En el caso de que la condición no sea cierta podemos pedirle que haga algo más usando la sentencia else.\n",
        "\n",
        "La estructura de esta sentencia es la siguiente:"
      ]
    },
    {
      "cell_type": "markdown",
      "metadata": {
        "id": "SUcaotOpfsmP"
      },
      "source": [
        "```python\n",
        "if condición:\n",
        "    aquí van las órdenes que se ejecutan si la condición es cierta\n",
        "else:\n",
        "    aquí van las órdenes que se ejecutan si la condición es falsa\n",
        "```"
      ]
    },
    {
      "cell_type": "markdown",
      "metadata": {
        "id": "iqEb21vMfvDY"
      },
      "source": [
        "Como verás una sentencia if se compone de un `if`, que significa “si”, seguido de una ’condición’ y terminando con dos puntos (:). Una condición es un cálculo de programación cuyo resultado es verdadero (`True`) o falso (`False`), y se crea utilizando los operadores relacionales que ya conocés (==, >, <, !=). \n",
        "\n",
        "La línea siguiente son las órdenes a ejecutar si la condición es cierta, y siempre comienza con un `tab`. La sentencia else consiste de un `else`, que significa “de lo contrario”, y dos puntos (:). En la línea de abajo se escriben las órdenes a ejecutar en caso de que la condición if no sea cierta, también comenzando con un `tab`. \n",
        "\n",
        "Es muy importante dejar esta tabulación o sangría (un espacio en blanco, insertado con la tecla tab; o cuatro espacios con el ingresados espaciador) en el comienzo de la línea de abajo; ya que le permite al intérprete de Python saber en qué orden debe ejecutar cada cosa. De olvidar esta sangría Python te hará saber que no le gustó, con el cartel: `IndentationError:expected an indented block`."
      ]
    },
    {
      "cell_type": "code",
      "metadata": {
        "id": "1rWprDydsGVK"
      },
      "source": [
        "hora_colombia = 12.17\n",
        "hora_argentina = 14.17"
      ],
      "execution_count": null,
      "outputs": []
    },
    {
      "cell_type": "code",
      "metadata": {
        "id": "VWQUCGGrsSD9"
      },
      "source": [
        "#función para saber si vamos a almorzar o a merendar según la hora\n",
        "def reloj_biologico(hora):\n",
        "  if hora < 12:\n",
        "    print('Vamos a desayunar')\n",
        "  else:\n",
        "    print('hora do almoço')"
      ],
      "execution_count": null,
      "outputs": []
    },
    {
      "cell_type": "code",
      "metadata": {
        "colab": {
          "base_uri": "https://localhost:8080/"
        },
        "id": "o6Atwat7t3Jv",
        "outputId": "bd09bfd9-2d49-42f3-9a2c-f6517cfa484d"
      },
      "source": [
        "reloj_biologico(hora_colombia)"
      ],
      "execution_count": null,
      "outputs": [
        {
          "output_type": "stream",
          "text": [
            "hora do almoço\n"
          ],
          "name": "stdout"
        }
      ]
    },
    {
      "cell_type": "markdown",
      "metadata": {
        "id": "QZ0ZIqYdfxkD"
      },
      "source": [
        "__> 🧗‍♀️ Desafío VIII:__\n",
        "\n",
        "En una ronda pequña de mate 🧉 no hace falta llenar tooooodo el termo, con un poco de agua quizás alcanza. Definí una función _calcular_cantidad_de_agua_ que espere una cantidad de personas como argumento y devuelva la cantidad de mililitros con los que tenemos que cargar el termo."
      ]
    },
    {
      "cell_type": "markdown",
      "metadata": {
        "id": "v9GKyPm8f0dl"
      },
      "source": [
        ">👀  ¡OJO!  Si llega a 1000 debería retornar la advertencia `\"vas a necesitar más de un térmo\"` "
      ]
    },
    {
      "cell_type": "markdown",
      "metadata": {
        "id": "ZMjjq0INf6Vb"
      },
      "source": [
        "## [19. Vueltas y mas vueltas](#19-for)"
      ]
    },
    {
      "cell_type": "markdown",
      "metadata": {
        "id": "Lb41q8Evfihl"
      },
      "source": [
        "Hay gente que es reiterativa hay circunstancias que son reiterativas y hay tareas que son reiterativas. Por suerte existen lo que se conocen como bucles-for.\n",
        "\n",
        "Pero antes de desglosar los bucles, vamos a hacer otro recreo culinario. Seguro a esta altura del curso te haya dado un poco de hambre, ¡al fin y al cabo solo tomamos mate y una sola medialuna! Vamos hacer un pedido de empanadas 🥟 y para simplificarnos las cosas cuando hagamos el pedido, dividiremos entre veganas y no veggie."
      ]
    },
    {
      "cell_type": "markdown",
      "metadata": {
        "id": "5TaNE54egIY5"
      },
      "source": [
        "```python\n",
        " pedido = { \"Ana\" : \"no veggie\", \"Paul\": \"veganas\", \"Luz\": \"veganas\"}\n",
        "```"
      ]
    },
    {
      "cell_type": "markdown",
      "metadata": {
        "id": "3zCu4MISgKjT"
      },
      "source": [
        "En lugar de contar a mano, ahora que sabemos programar, podremos hacer una función (_empanadas_por_gusto_) que nos calcule la cantidad de empanadas de cada gusto, para poder hacer el pedido. Para ello deberíamos recorrer la lista de comensales del diccionario pedidos y verificar de que gusto quieren y sumarla 1 a la lista de cada gusto. Vamos por partes, comencemos por acceder a los gustos que cada persona quiere. \n",
        "\n",
        "Si recuerdan de lo que vimos de diccionarios podemos a acceder al gusto que elige una persona haciendo:"
      ]
    },
    {
      "cell_type": "markdown",
      "metadata": {
        "id": "Ln28LDEYgNhm"
      },
      "source": [
        "```python\n",
        ">>> pedido[\"Ana\"]\n",
        "```"
      ]
    },
    {
      "cell_type": "markdown",
      "metadata": {
        "id": "0gVZ01jggPmI"
      },
      "source": [
        "Y podemos extraer la lista de comensales que se suman al pedido haciendo:"
      ]
    },
    {
      "cell_type": "markdown",
      "metadata": {
        "id": "O8MYBA7jgSRN"
      },
      "source": [
        "```python\n",
        ">>> pedido.keys()\n",
        "```"
      ]
    },
    {
      "cell_type": "markdown",
      "metadata": {
        "id": "2YYc1s6ygUEZ"
      },
      "source": [
        "Ahora, simplemente debemos recorrer esa lista para acceder en cada caso al gusto que eligió cada persona:"
      ]
    },
    {
      "cell_type": "markdown",
      "metadata": {
        "id": "I6I8nfmggWlr"
      },
      "source": [
        "```python\n",
        "#Obtenemos la lista de comensales\n",
        ">>> lista_comensales = pedidos.keys()\n",
        "\n",
        ">>> def empanadas_por_gusto():\n",
        "...    for i in lista_comensales:\n",
        "...        print(pedido[i])\n",
        "```"
      ]
    },
    {
      "cell_type": "code",
      "metadata": {
        "id": "4Dx4ySClvdNi"
      },
      "source": [
        "nombre = 'Lucy'"
      ],
      "execution_count": null,
      "outputs": []
    },
    {
      "cell_type": "code",
      "metadata": {
        "id": "Z2uwpyh5v8DV"
      },
      "source": [
        "def alentador(nombre):\n",
        "  for letra in nombre:\n",
        "    print('Dame una '+letra+', te doy una '+letra)\n",
        "  print('Viva '+ nombre)"
      ],
      "execution_count": null,
      "outputs": []
    },
    {
      "cell_type": "code",
      "metadata": {
        "colab": {
          "base_uri": "https://localhost:8080/"
        },
        "id": "2-IAoo_dw95z",
        "outputId": "55a35907-cc64-4c26-d473-bad355bd1745"
      },
      "source": [
        "alentador(nombre)"
      ],
      "execution_count": null,
      "outputs": [
        {
          "output_type": "stream",
          "text": [
            "Dame una L, te doy una L\n",
            "Dame una u, te doy una u\n",
            "Dame una c, te doy una c\n",
            "Dame una y, te doy una y\n",
            "Viva Lucy\n"
          ],
          "name": "stdout"
        }
      ]
    },
    {
      "cell_type": "markdown",
      "metadata": {
        "id": "w27LrO4ngYc-"
      },
      "source": [
        "> Para pensar 🤔: ¿Qué nos imprime el procedimiento de anterior? ¿Qué significa _i_?"
      ]
    },
    {
      "cell_type": "markdown",
      "metadata": {
        "id": "-OYNJbpsgbWA"
      },
      "source": [
        "Como ya te habrás dado cuenta, el procedimiento que acabamos de crear tiene un bucle ‘for’, que consiste en un `for`, una variable cambiante (en nuestro caso `i`), un `in` y una lista de cosas que van a ser los valores que tomará nuestra variable `i`. Entonces, nuestro bucle puede ser leído como: para la variable i, tomando valores de la lista `lista_comensales` imprimí en la pantalla cada valor del diccionario `pedidos` que se corresponda a dicha llave.\n",
        "\n",
        "Ahora solo nos faltaría sumar +1 a la lista _veggies_ si el valor es `\"veganas\"` o sumar +1 a la lista _no_veggies_ si el valor se corresponde con `\"no veggie\"`... ¡Pero eso te toca vos!"
      ]
    },
    {
      "cell_type": "markdown",
      "metadata": {
        "id": "nnnxfqwggeBL"
      },
      "source": [
        "__> 🧗‍♀️ Desafío IX:__\n",
        "\n",
        "Modificá la función _empanadas_por_gusto()_ para que devuelva la cantidad de empenadas de cada gusto que deben pedirse a la casa de comidas"
      ]
    },
    {
      "cell_type": "markdown",
      "metadata": {
        "id": "057fX472gku8"
      },
      "source": [
        "## [20. Salir de la caja](#20-scripts)"
      ]
    },
    {
      "cell_type": "markdown",
      "metadata": {
        "id": "b9no_6qfgnwp"
      },
      "source": [
        "Un script es una secuencia de comandos, o en criollo un programa muy simple. Eso que fuimos ejecutando linea a linea, perfectamente podría escribirse en un archivo para ejecutarse una sola vez, más comodamente.\n",
        "\n",
        "Por convención, los archivos de los scripts de python tienen extensión ‘.py’. Para ejecutar un script de python en la consola simplemente debemos escribir:\n"
      ]
    },
    {
      "cell_type": "markdown",
      "metadata": {
        "id": "8w15vxYwgqtt"
      },
      "source": [
        "```bash\n",
        "python3 <nombre_del_archivo.py> <argumentos>\n",
        "```"
      ]
    },
    {
      "cell_type": "markdown",
      "metadata": {
        "id": "-5Y-2KMZgtCe"
      },
      "source": [
        "Bueno... no tan simplemente. Esta forma de correr un script puede variar de un sistema operativo a otro. Si estas en Windows, tenés que abrir el cmd de windows en la carpeta donde tengas el script y correr el comando:"
      ]
    },
    {
      "cell_type": "markdown",
      "metadata": {
        "id": "-BDUO1spgwHa"
      },
      "source": [
        "```bash\n",
        " \"python script.py\"\n",
        "```"
      ]
    }
  ]
}